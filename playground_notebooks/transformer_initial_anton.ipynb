{
 "cells": [
  {
   "cell_type": "code",
   "execution_count": 1,
   "metadata": {},
   "outputs": [],
   "source": [
    "import sys \n",
    "if '..' not in sys.path:\n",
    "    sys.path.append('../')\n",
    "from utils import *\n",
    "data = load_data(verbose=False)\n",
    "\n",
    "w = data['synced/gyro']\n",
    "a = data['synced/acce']\n",
    "m = data['synced/magnet']\n",
    "q_tango = data['pose/tango_ori']\n",
    "p_tango = data['pose/tango_pos']\n",
    "dt = data['synced/time'][1] - data['synced/time'][0]"
   ]
  },
  {
   "cell_type": "code",
   "execution_count": 37,
   "metadata": {},
   "outputs": [],
   "source": [
    "# set up a tansformer model\n",
    "# inputs are w(n-1,3),  a(n-1,3), m(n-1,3), p_tango(n-1,3), q_tango(n-1,4)\n",
    "# outputs must be the same\n",
    "\n",
    "import torch\n",
    "from torch import tensor\n",
    "import torch.nn as nn\n",
    "import torch.nn.functional as F\n",
    "import torch.optim as optim\n",
    "\n",
    "d_model = 16\n",
    "nhead = 2\n",
    "num_encoder_layers = 2\n",
    "num_decoder_layers = 2\n",
    "dim_feedforward = 16\n",
    "\n",
    "net = nn.Transformer(d_model=d_model, nhead=nhead, num_encoder_layers=num_encoder_layers, num_decoder_layers=num_decoder_layers, dim_feedforward=dim_feedforward, dropout=0.0, activation='relu', custom_encoder=None, custom_decoder=None)\n",
    "\n",
    "# set up the training data\n",
    "X = torch.cat((tensor(w[:-1]), \n",
    "               tensor(a[:-1]), \n",
    "               tensor(m[:-1]),\n",
    "               tensor(p_tango[:-1]),\n",
    "               tensor(q_tango[:-1]),\n",
    "               ), dim=1)\n",
    "y = torch.cat((tensor(w[1:]), \n",
    "               tensor(a[1:]), \n",
    "               tensor(m[1:]),\n",
    "               tensor(p_tango[1:]),\n",
    "               tensor(q_tango[1:]),\n",
    "               ), dim=1)\n",
    "\n",
    "# turn into 32 bit floats\n",
    "X = X.float()[:10000]\n",
    "y = y.float()[:10000]\n",
    "\n",
    "# dataset\n",
    "dataset = torch.utils.data.TensorDataset(X, y)\n",
    "\n",
    "# dataloader\n",
    "dataloader = torch.utils.data.DataLoader(dataset, batch_size=128, shuffle=False)\n",
    "\n",
    "# set up the training\n",
    "criterion = nn.MSELoss()\n",
    "\n",
    "# set up the training loop\n",
    "losses = []"
   ]
  },
  {
   "cell_type": "code",
   "execution_count": 38,
   "metadata": {},
   "outputs": [
    {
     "name": "stdout",
     "output_type": "stream",
     "text": [
      "torch.Size([128, 16]) torch.Size([128, 16])\n"
     ]
    }
   ],
   "source": [
    "for data in dataloader:\n",
    "        X_, y_ = data\n",
    "        break\n",
    "\n",
    "print(X_.shape, y_.shape)"
   ]
  },
  {
   "cell_type": "code",
   "execution_count": 39,
   "metadata": {},
   "outputs": [
    {
     "name": "stdout",
     "output_type": "stream",
     "text": [
      "epoch: 0, loss: 15713.16946029663\n",
      "epoch: 1, loss: 15204.371040344238\n",
      "epoch: 2, loss: 15001.470420837402\n",
      "epoch: 3, loss: 14828.149242401123\n",
      "epoch: 4, loss: 14666.611072540283\n",
      "epoch: 5, loss: 14523.376537322998\n",
      "epoch: 6, loss: 14376.093872070312\n",
      "epoch: 7, loss: 14233.686038970947\n",
      "epoch: 8, loss: 14086.308193206787\n",
      "epoch: 9, loss: 13954.956924438477\n"
     ]
    },
    {
     "data": {
      "image/png": "[encoded data removed]",
      "text/plain": [
       "<Figure size 432x288 with 1 Axes>"
      ]
     },
     "metadata": {
      "needs_background": "light"
     },
     "output_type": "display_data"
    }
   ],
   "source": [
    "# set up the optimizer\n",
    "optim_ = optim.Adam(params=net.parameters(), lr=0.001)\n",
    "\n",
    "n_epochs = 10\n",
    "for epoch in range(n_epochs):\n",
    "    running_loss = 0.0\n",
    "    for data in dataloader:\n",
    "        X_, y_ = data\n",
    "\n",
    "        # reset the gradients\n",
    "        optim_.zero_grad()\n",
    "\n",
    "        # forward pass\n",
    "        output =  net(X_, y_)\n",
    "\n",
    "        # compute the loss\n",
    "        loss = criterion(output, y_)\n",
    "\n",
    "        # clip the gradients\n",
    "        nn.utils.clip_grad_norm_(net.parameters(), max_norm=1.0)\n",
    "\n",
    "        # backward pass\n",
    "        loss.backward()\n",
    "\n",
    "        # update the weights\n",
    "        optim_.step()\n",
    "        running_loss += loss.item()\n",
    "\n",
    "    print(f'epoch: {epoch}, loss: {running_loss}')\n",
    "\n",
    "    losses.append(running_loss)\n",
    "\n",
    "# plot the losses\n",
    "plt.plot(losses)\n",
    "plt.xlabel('epoch')\n",
    "plt.ylabel('loss')\n",
    "plt.yscale('log')\n",
    "short_name = 'tiny'\n",
    "plt.savefig(f'../figures/{short_name}_transformer_{d_model}_{nhead}_{num_encoder_layers}_{num_decoder_layers}_{dim_feedforward}.png', dpi=300)"
   ]
  },
  {
   "cell_type": "code",
   "execution_count": 40,
   "metadata": {},
   "outputs": [],
   "source": [
    "def plot_trajectory(p_tango, p_pred, q_tango, q_pred):\n",
    "    fig = plt.figure(figsize=(15,6))\n",
    "    gs = gridspec.GridSpec(2, 12, wspace=0.7, hspace=0.2)\n",
    "    ax_p = [fig.add_subplot(gs[0, :4]), fig.add_subplot(gs[0, 4:8]), fig.add_subplot(gs[0, 8:])]\n",
    "    ax_q = [fig.add_subplot(gs[1, :3]), fig.add_subplot(gs[1, 3:6]), fig.add_subplot(gs[1, 6:9]), fig.add_subplot(gs[1, 9:])]\n",
    "\n",
    "    # plot positions\n",
    "    for i in range(3):\n",
    "        ax_p[i].plot(p_tango[:,i], label='tango')\n",
    "        ax_p[i].plot(p_pred[:,i], label='pred')\n",
    "        ax_p[i].set_title('position {}'.format(i))\n",
    "        ax_p[i].legend()\n",
    "\n",
    "    # plot quaternions\n",
    "    for i in range(4):\n",
    "        ax_q[i].plot(q_tango[:,i], label='tango')\n",
    "        ax_q[i].plot(q_pred[:,i], label='pred')\n",
    "        ax_q[i].set_title('quaternion {}'.format(i))\n",
    "        ax_q[i].legend()\n",
    "\n",
    "    return fig\n",
    "\n",
    "# predict\n",
    "N = 5000\n",
    "with torch.no_grad():\n",
    "    # y_pred = net(X, y) dont use the whole dataset\n",
    "    y_pred = net(X[:N], y[:N])\n",
    "\n",
    "# plot\n",
    "fig = plot_trajectory(p_tango[:N], y_pred[:N,9:12], q_tango[:N], y_pred[:N,12:])\n"
   ]
  },
  {
   "cell_type": "code",
   "execution_count": null,
   "metadata": {},
   "outputs": [],
   "source": [
    "# considering which free parameters there are\n",
    "# 1. the number of layers in the encoder and decoder\n",
    "# 2. the number of heads\n",
    "# 3. the dimension of the model (but this is kinda fixed)\n",
    "# 4. the dimension of the feedforward network\n",
    "# 5. the dropout rate\n",
    "# 6. the activation function\n",
    "# 7. the custom encoder and decoder\n",
    "# 8. the learning rate\n",
    "# 9. the batch size"
   ]
  }
 ],
 "metadata": {
  "kernelspec": {
   "display_name": "Python 3",
   "language": "python",
   "name": "python3"
  },
  "language_info": {
   "codemirror_mode": {
    "name": "ipython",
    "version": 3
   },
   "file_extension": ".py",
   "mimetype": "text/x-python",
   "name": "python",
   "nbconvert_exporter": "python",
   "pygments_lexer": "ipython3",
   "version": "3.10.0"
  },
  "orig_nbformat": 4
 },
 "nbformat": 4,
 "nbformat_minor": 2
}
