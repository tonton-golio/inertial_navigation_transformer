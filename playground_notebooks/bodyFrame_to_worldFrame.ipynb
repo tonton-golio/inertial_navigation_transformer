{
 "cells": [
  {
   "cell_type": "code",
   "execution_count": 1,
   "metadata": {},
   "outputs": [
    {
     "name": "stdout",
     "output_type": "stream",
     "text": [
      "CONTENTS OF HDF5 FILE:\n",
      "pose\n",
      "\t ekf_ori, tango_ori, tango_pos\n",
      "raw\n",
      "\t imu\n",
      "\t\t acce, game_rv, gps, gravity, gyro, gyro_uncalib, linacce, magnet, magnetic_rv, pressure, rv, step, wifi_address, wifi_values\n",
      "\t tango\n",
      "\t\t acce, game_rv, gps, gravity, gyro, gyro_uncalib, linacce, magnet, magnetic_rv, pressure, rv, step, tango_adf_pose, tango_pose, wifi_address, wifi_values\n",
      "synced\n",
      "\t acce, game_rv, grav, gyro, gyro_uncalib, linacce, magnet, rv, time\n"
     ]
    }
   ],
   "source": [
    "import sys \n",
    "if '..' not in sys.path:\n",
    "    sys.path.append('../')\n",
    "from utils import *\n",
    "data_dict = load_data(verbose=True)"
   ]
  },
  {
   "cell_type": "code",
   "execution_count": 2,
   "metadata": {},
   "outputs": [],
   "source": [
    "w = data_dict['synced/gyro']\n",
    "a = data_dict['synced/acce']\n",
    "m = data_dict['synced/magnet']"
   ]
  },
  {
   "cell_type": "code",
   "execution_count": 3,
   "metadata": {},
   "outputs": [
    {
     "data": {
      "text/plain": [
       "array([[ 0.37578564],\n",
       "       [ 0.62505364],\n",
       "       [ 0.36336434],\n",
       "       [-0.57970635]])"
      ]
     },
     "execution_count": 3,
     "metadata": {},
     "output_type": "execute_result"
    }
   ],
   "source": [
    "\n",
    "R = get_body2world_rot(m[0],a[0])\n",
    "rotation_matrix_2_quaternion(np.linalg.inv(R))"
   ]
  },
  {
   "cell_type": "code",
   "execution_count": 4,
   "metadata": {},
   "outputs": [
    {
     "data": {
      "text/plain": [
       "array([ 0.34436653,  0.59040797,  0.35096438, -0.64004271])"
      ]
     },
     "execution_count": 4,
     "metadata": {},
     "output_type": "execute_result"
    }
   ],
   "source": [
    "# check if this lines up with the quaternion from the Tango\n",
    "data_dict['pose/tango_ori'][0]"
   ]
  },
  {
   "cell_type": "code",
   "execution_count": null,
   "metadata": {},
   "outputs": [],
   "source": []
  }
 ],
 "metadata": {
  "kernelspec": {
   "display_name": "Python 3",
   "language": "python",
   "name": "python3"
  },
  "language_info": {
   "codemirror_mode": {
    "name": "ipython",
    "version": 3
   },
   "file_extension": ".py",
   "mimetype": "text/x-python",
   "name": "python",
   "nbconvert_exporter": "python",
   "pygments_lexer": "ipython3",
   "version": "3.10.0"
  },
  "orig_nbformat": 4
 },
 "nbformat": 4,
 "nbformat_minor": 2
}
